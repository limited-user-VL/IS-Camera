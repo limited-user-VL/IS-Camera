{
 "cells": [
  {
   "cell_type": "code",
   "execution_count": 1,
   "metadata": {
    "scrolled": true
   },
   "outputs": [
    {
     "name": "stdout",
     "output_type": "stream",
     "text": [
      "G:\\Shared drives\\VitreaLab Share\\Lab Data\\Light Engine Team\\X-Reality Projects (XR)\\Augmented Reality (AR)\\Lab Data\\AR\\2024-01-25\\Green_2\n"
     ]
    }
   ],
   "source": [
    "%matplotlib notebook\n",
    "\n",
    "# import standard packages\n",
    "from scipy.optimize import curve_fit\n",
    "import sys\n",
    "import matplotlib.pyplot as plt\n",
    "plt.rcParams['figure.max_open_warning'] = 50\n",
    "import pickle\n",
    "import imageio\n",
    "import os\n",
    "\n",
    "# import own packages\n",
    "#beam_tomo_analyse_folder = r\"/Users/rui/Documents/GitHub/beam_tomography/\" #Mac\n",
    "beam_tomo_analyse_folder = r\"C:\\Users\\Rui\\Documents\\GitHub\\beam_tomography\" #Windows\n",
    "sys.path.append(beam_tomo_analyse_folder)\n",
    "from beam_tomo_analyse import *\n",
    "\n",
    "print(os.getcwd())\n"
   ]
  },
  {
   "cell_type": "markdown",
   "metadata": {},
   "source": [
    "# Generate preview movie "
   ]
  },
  {
   "cell_type": "code",
   "execution_count": null,
   "metadata": {},
   "outputs": [],
   "source": [
    "print(\"-\"*30)\n",
    "filenames = [item for item in os.listdir() if \".pkl\" in item and \".mp4\" not in item]\n",
    "filenames"
   ]
  },
  {
   "cell_type": "code",
   "execution_count": null,
   "metadata": {},
   "outputs": [],
   "source": [
    "#load data\n",
    "filename = filenames[0]\n",
    "with open(filename, \"rb\") as file:\n",
    "    data = pickle.load(file)\n",
    "    \n",
    "img_store = data[\"img_store\"]\n",
    "coord_store = data[\"coord_store\"]\n",
    "\n",
    "# Convert numpy arrays to uint8 (required for imageio)\n",
    "img_store_8bit = [convert_uint16_to_uint8(item) for item in img_store] \n",
    "\n",
    "# Create a movie\n",
    "imageio.mimsave(f'{filename}_seq.mp4', img_store_8bit, fps=15)  # fps specifies frames per second\n",
    "\n",
    "#Generate images\n",
    "for i in range(len(img_store)):\n",
    "    img_i = img_store_8bit[i]\n",
    "    label_i = float(coord_store[i])\n",
    "    plt.figure()\n",
    "    plt.imshow(img_i)\n",
    "    plt.xlabel(\"id_y\")\n",
    "    plt.ylabel(\"id_x\")\n",
    "    plt.colorbar()\n",
    "    plt.title(f\"z = {label_i:.2f}mm\")"
   ]
  },
  {
   "cell_type": "markdown",
   "metadata": {},
   "source": [
    "# Run entire analysis at once"
   ]
  },
  {
   "cell_type": "code",
   "execution_count": null,
   "metadata": {},
   "outputs": [],
   "source": [
    "# ccess folder with data in G drive\n",
    "folder_path = r\"G:\\Shared drives\\VitreaLab Share\\Lab Data\\Light Engine Team\\X-Reality Projects (XR)\\Augmented Reality (AR)\\Lab Data\\AR\\2024-01-25\\Green_2\\\\\"\n",
    "#folder_path = r\"/Users/rui/Library/CloudStorage/GoogleDrive-rui.vasconcelos@vitrealab.com/Shared drives/VitreaLab Share/Lab Data/Light Engine Team/X-Reality Projects (XR)/Augmented Reality (AR)/Lab Data/AR/2024-01-25/Green_2/\"\n",
    "files = [f for f in os.listdir(folder_path) if os.path.isfile(os.path.join(folder_path, f))]\n",
    "filenames = sorted([item for item in files if \".pkl\" in item and \".mp4\" not in item])"
   ]
  },
  {
   "cell_type": "code",
   "execution_count": null,
   "metadata": {},
   "outputs": [],
   "source": [
    "# Parameters\n",
    "filename = filenames[0] \n",
    "file_path = os.path.join(folder_path, filename)\n",
    "grid_shape = (5, 8) #rows, cols \n",
    "roi_width = 100\n",
    "method = \"stats\" #\"stats\" of \"fit\"\n",
    "\n",
    "# Load data\n",
    "tomo = Tomography(file_path, grid_shape, method, roi_width)\n",
    "tomo.load_data()\n",
    "\n",
    "#Prepare images, extract beams coords and widths and calculate direction cosines and divergence\n",
    "tomo.find_rot_spacing(angle_min = 0, angle_max = 3, angle_step = 0.25)\n",
    "tomo.find_pos_and_widths(debug = False) #Find coords for all the other layers\n",
    "tomo.set_max_z(16.89) #limits fits to cross section with z<max_z;\n",
    "tomo.find_dir_cos_div(limit_z_fit = True, debug = True) #debug = True, shows and saves the fits to the beam positions and divergence\n",
    "\n",
    "#Plots\n",
    "tomo.plot_div(save = True,)\n",
    "tomo.plot_div_hist(save = True)\n",
    "tomo.plot_dir(save = True)\n",
    "tomo.plot_dir_single(save = True)\n",
    "tomo.plot_uniformity(save = True)"
   ]
  },
  {
   "cell_type": "markdown",
   "metadata": {},
   "source": [
    "# List and load measurements "
   ]
  },
  {
   "cell_type": "code",
   "execution_count": 2,
   "metadata": {},
   "outputs": [
    {
     "data": {
      "text/plain": [
       "['16.47.14 tomography.pkl']"
      ]
     },
     "execution_count": 2,
     "metadata": {},
     "output_type": "execute_result"
    }
   ],
   "source": [
    "# Access folder with data in G drive\n",
    "folder_path = r\"/Users/rui/Library/CloudStorage/GoogleDrive-rui.vasconcelos@vitrealab.com/Shared drives/VitreaLab Share/Lab Data/Light Engine Team/X-Reality Projects (XR)/Augmented Reality (AR)/Lab Data/AR/2024-01-25/Green_2/\"\n",
    "folder_path = r\"G:\\Shared drives\\VitreaLab Share\\Lab Data\\Light Engine Team\\X-Reality Projects (XR)\\Augmented Reality (AR)\\Lab Data\\AR\\2024-01-25\\Green_2\\\\\"\n",
    "files = [f for f in os.listdir(folder_path) if os.path.isfile(os.path.join(folder_path, f))]\n",
    "filenames = sorted([item for item in files if \".pkl\" in item and \".mp4\" not in item])\n",
    "filenames"
   ]
  },
  {
   "cell_type": "code",
   "execution_count": 3,
   "metadata": {},
   "outputs": [
    {
     "name": "stdout",
     "output_type": "stream",
     "text": [
      "Loaded\n",
      "Tomography measurement:\n",
      "\n",
      "        - Filename = G:\\Shared drives\\VitreaLab Share\\Lab Data\\Light Engine Team\\X-Reality Projects (XR)\\Augmented Reality (AR)\\Lab Data\\AR\\2024-01-25\\Green_2\\\\16.47.14 tomography.pkl\n",
      "\n",
      "        - Number of beam rows = 5\n",
      "\n",
      "        - Number of beam cols = 8\n",
      "\n",
      "        - Z-spacing: 0.100mm\n",
      "\n",
      "        - Number of cross sections: 30\n",
      "        \n",
      "Extracting rotation angle for the lowest z cross section.\n"
     ]
    },
    {
     "name": "stderr",
     "output_type": "stream",
     "text": [
      "100%|██████████████████████████████████████████████████████████████████████████████████| 12/12 [00:10<00:00,  1.09it/s]\n"
     ]
    },
    {
     "name": "stdout",
     "output_type": "stream",
     "text": [
      "Optimal rotation angle = 1.50deg\n",
      "Extracting the grid spacing\n",
      "Average spacing [px] between beams = 146.00\n",
      "Updating the rotation angle and rotated image for each cross section.\n"
     ]
    },
    {
     "name": "stderr",
     "output_type": "stream",
     "text": [
      "100%|██████████████████████████████████████████████████████████████████████████████████| 30/30 [00:04<00:00,  6.67it/s]\n",
      "C:\\Users\\Rui\\Documents\\GitHub\\beam_tomography\\beam_tomo_analyse.py:327: VisibleDeprecationWarning: Creating an ndarray from ragged nested sequences (which is a list-or-tuple of lists-or-tuples-or ndarrays with different lengths or shapes) is deprecated. If you meant to do this, you must specify 'dtype=object' when creating the ndarray.\n",
      "  peak_sorted_arr = np.array(peak_sorted_arr)\n"
     ]
    },
    {
     "name": "stdout",
     "output_type": "stream",
     "text": [
      "Coordinates of beam in first layer were determined.\n"
     ]
    },
    {
     "name": "stderr",
     "output_type": "stream",
     "text": [
      " 20%|████████████████▊                                                                   | 1/5 [00:00<00:00,  6.56it/s]"
     ]
    },
    {
     "name": "stdout",
     "output_type": "stream",
     "text": [
      "No beam assigned to grid point id_x = 0 and id_y = 0.\n",
      "No beam assigned to grid point id_x = 1 and id_y = 0.\n"
     ]
    },
    {
     "name": "stderr",
     "output_type": "stream",
     "text": [
      " 60%|██████████████████████████████████████████████████▍                                 | 3/5 [00:00<00:00,  7.37it/s]"
     ]
    },
    {
     "name": "stdout",
     "output_type": "stream",
     "text": [
      "No beam assigned to grid point id_x = 2 and id_y = 0.\n",
      "No beam assigned to grid point id_x = 3 and id_y = 0.\n"
     ]
    },
    {
     "name": "stderr",
     "output_type": "stream",
     "text": [
      "100%|████████████████████████████████████████████████████████████████████████████████████| 5/5 [00:00<00:00,  7.48it/s]"
     ]
    },
    {
     "name": "stdout",
     "output_type": "stream",
     "text": [
      "No beam assigned to grid point id_x = 4 and id_y = 1.\n",
      "No beam assigned to grid point id_x = 4 and id_y = 2.\n",
      "Coordinates of the beams and respective widths have been determined in all cross sections\n"
     ]
    },
    {
     "name": "stderr",
     "output_type": "stream",
     "text": [
      "\n"
     ]
    }
   ],
   "source": [
    "# Parameters\n",
    "filename = filenames[0] \n",
    "file_path = os.path.join(folder_path, filename)\n",
    "grid_shape = (5, 8) #rows, cols \n",
    "roi_width = 100\n",
    "method = \"stats\" #\"stats\" of \"fit\"\n",
    "sub_backg = False #\n",
    "\n",
    "# Load data\n",
    "tomo = Tomography(file_path, grid_shape, method = method, roi_width = roi_width, sub_backg = sub_backg)\n",
    "tomo.load_data()\n",
    "\n",
    "#Extract beams coords and widths\n",
    "tomo.find_rot_spacing(angle_min = 0, angle_max = 3, angle_step = 0.25) #Preparation for data analysis;\n",
    "tomo.find_pos_and_widths(debug = False) #Find coordinates and beam widths for all layers;"
   ]
  },
  {
   "cell_type": "markdown",
   "metadata": {},
   "source": [
    "## Debug Tomography.init_coords() "
   ]
  },
  {
   "cell_type": "markdown",
   "metadata": {},
   "source": [
    "# Visualise data"
   ]
  },
  {
   "cell_type": "code",
   "execution_count": null,
   "metadata": {},
   "outputs": [],
   "source": [
    "print(f\"Lowest z: {np.min(tomo.cross_sect_z_l): .2f}mm\")\n",
    "print(f\"Highest z: {np.max(tomo.cross_sect_z_l): .2f}mm\")"
   ]
  },
  {
   "cell_type": "markdown",
   "metadata": {},
   "source": [
    "## Plot cross sections"
   ]
  },
  {
   "cell_type": "code",
   "execution_count": null,
   "metadata": {},
   "outputs": [],
   "source": [
    "f, ax = tomo.plot_cross_section(0, save = True)\n",
    "plt.colorbar()"
   ]
  },
  {
   "cell_type": "markdown",
   "metadata": {},
   "source": [
    "## Debug "
   ]
  },
  {
   "cell_type": "markdown",
   "metadata": {},
   "source": [
    "## Plot beam trajectory and width"
   ]
  },
  {
   "cell_type": "code",
   "execution_count": null,
   "metadata": {
    "scrolled": true
   },
   "outputs": [],
   "source": [
    "id_x = 4\n",
    "id_y = 3\n",
    "beam_i = tomo.beam_l[id_x][id_y]\n",
    "beam_i.plot_trajectory(limit_z_fit = True)\n"
   ]
  },
  {
   "cell_type": "markdown",
   "metadata": {},
   "source": [
    "## Plot single beam width evolution"
   ]
  },
  {
   "cell_type": "code",
   "execution_count": null,
   "metadata": {},
   "outputs": [],
   "source": [
    "id_x = 4\n",
    "id_y = 0\n",
    "beam_i = tomo.beam_l[id_x][id_y]\n",
    "beam_i.plot_width(limit_z_fit=False)\n"
   ]
  },
  {
   "cell_type": "markdown",
   "metadata": {},
   "source": [
    "## Plot ROIs"
   ]
  },
  {
   "cell_type": "code",
   "execution_count": null,
   "metadata": {
    "scrolled": true
   },
   "outputs": [],
   "source": [
    "id_x = 4\n",
    "id_y = 0\n",
    "beam_i =tomo.beam_l[id_x][id_y]\n",
    "beam_i.plot_rois()\n",
    "    "
   ]
  },
  {
   "cell_type": "markdown",
   "metadata": {},
   "source": [
    "## Plot ROIs and respective gaussian fits"
   ]
  },
  {
   "cell_type": "code",
   "execution_count": null,
   "metadata": {
    "scrolled": true
   },
   "outputs": [],
   "source": [
    "id_x = 4\n",
    "id_y = 3\n",
    "beam_i =tomo.beam_l[id_x][id_y]\n",
    "beam_i.plot_gauss_fit(limit_z_fit = False)"
   ]
  },
  {
   "cell_type": "markdown",
   "metadata": {},
   "source": [
    "## Plot beam parameters "
   ]
  },
  {
   "cell_type": "code",
   "execution_count": null,
   "metadata": {
    "scrolled": true
   },
   "outputs": [],
   "source": [
    "id_x = 4\n",
    "id_y = 0\n",
    "beam_i =tomo.beam_l[id_x][id_y]\n",
    "beam_i.plot_beam_params(limit_z_fit = False,)"
   ]
  },
  {
   "cell_type": "markdown",
   "metadata": {},
   "source": [
    "## Make movie of beam cross sections"
   ]
  },
  {
   "cell_type": "code",
   "execution_count": 4,
   "metadata": {},
   "outputs": [
    {
     "name": "stderr",
     "output_type": "stream",
     "text": [
      "IMAGEIO FFMPEG_WRITER WARNING: input image is not divisible by macro_block_size=16, resizing from (100, 100) to (112, 112) to ensure video compatibility with most codecs and players. To prevent resizing, make your input image divisible by the macro_block_size or set the macro_block_size to 1 (risking incompatibility).\n"
     ]
    },
    {
     "name": "stdout",
     "output_type": "stream",
     "text": [
      "Saved movie of beam id_x 3 and id_y 3 as analysis\\beam_id_x3_id_y3.mp4.\n"
     ]
    }
   ],
   "source": [
    "id_x = 4\n",
    "id_y = 0\n",
    "tomo.make_beam_movie(id_x, id_y)"
   ]
  },
  {
   "cell_type": "markdown",
   "metadata": {},
   "source": [
    "# Extract beam parameters (tilt_x, tilt_y, div_x, div_y) "
   ]
  },
  {
   "cell_type": "markdown",
   "metadata": {},
   "source": [
    "## All beams - find direction cosines and divergence "
   ]
  },
  {
   "cell_type": "code",
   "execution_count": null,
   "metadata": {
    "scrolled": true
   },
   "outputs": [],
   "source": [
    "tomo.set_max_z(17.) #limits fits to cross section with z<max_z;\n",
    "\n",
    "#tomo.find_dir_cos_div(limit_z_fit = True, debug = True) #debug = True, shows and saves the fits to the beam positions and divergence\n",
    "tomo.find_dir_cos_div(limit_z_fit = True, debug = False) #debug = True, shows and saves the fits to the beam positions and divergence"
   ]
  },
  {
   "cell_type": "markdown",
   "metadata": {},
   "source": [
    "# Visualise cross sections with location of beams and ROIs"
   ]
  },
  {
   "cell_type": "markdown",
   "metadata": {},
   "source": [
    "# Plot div_x for all points x,y - tomo.plot_div()"
   ]
  },
  {
   "cell_type": "code",
   "execution_count": null,
   "metadata": {},
   "outputs": [],
   "source": [
    "tomo.plot_div(save = True,)"
   ]
  },
  {
   "cell_type": "markdown",
   "metadata": {},
   "source": [
    "## Plot histogram with divergences in x and y"
   ]
  },
  {
   "cell_type": "code",
   "execution_count": null,
   "metadata": {},
   "outputs": [],
   "source": [
    "tomo.plot_div_hist(save = True)"
   ]
  },
  {
   "cell_type": "markdown",
   "metadata": {},
   "source": [
    "## Plot direction of all beams"
   ]
  },
  {
   "cell_type": "code",
   "execution_count": null,
   "metadata": {},
   "outputs": [],
   "source": [
    "tomo.plot_dir(save = True)"
   ]
  },
  {
   "cell_type": "markdown",
   "metadata": {},
   "source": [
    "## Plot direction of all beams - subtract average direction"
   ]
  },
  {
   "cell_type": "code",
   "execution_count": null,
   "metadata": {},
   "outputs": [],
   "source": [
    "tomo.plot_dir_single(save = True)"
   ]
  },
  {
   "cell_type": "markdown",
   "metadata": {},
   "source": [
    "## Plot uniformity"
   ]
  },
  {
   "cell_type": "code",
   "execution_count": null,
   "metadata": {},
   "outputs": [],
   "source": [
    "tomo.plot_uniformity(save = True)"
   ]
  },
  {
   "cell_type": "code",
   "execution_count": null,
   "metadata": {},
   "outputs": [],
   "source": []
  },
  {
   "cell_type": "markdown",
   "metadata": {},
   "source": [
    "# Archive"
   ]
  },
  {
   "cell_type": "code",
   "execution_count": null,
   "metadata": {},
   "outputs": [],
   "source": [
    "vec_mean = tomo.mean_dir_cos\n",
    "\n",
    "fig, ax = plt.subplots(subplot_kw={'projection': 'polar'},\n",
    "                          figsize=(5,5),#(2 * tomo.shape[1], 2 * tomo.shape[0]),\n",
    "                          nrows = 1,\n",
    "                          ncols = 1)\n",
    "\n",
    "theta_deg = np.degrees(np.arccos(vec_mean[2]))\n",
    "phi_rad = np.arctan(vec_mean[1]/vec_mean[0])\n",
    "print(f\"phi_deg = {np.degrees(phi_rad):.2f}, theta_deg = {theta_deg:.2f}\")\n",
    "ax.scatter(phi_rad, theta_deg, marker = \"o\", s = 120, color = \"black\")\n",
    "ax.set_rmax(10)\n",
    "#ax.set_rlim(10)\n",
    "\n",
    "#plot direction cosines\n",
    "for id_x in range(tomo.shape[0]):\n",
    "    for id_y in range(tomo.shape[1]):\n",
    "        beam_i = tomo.beam_l[id_x][id_y]\n",
    "        \n",
    "        e_x, e_y, e_z = beam_i.e_x, beam_i.e_y, beam_i.e_z\n",
    "        vec = [e_x, e_y, e_z]\n",
    "\n",
    "        theta_deg = np.degrees(np.arccos(vec[2]))\n",
    "        phi_rad = np.arctan(vec[1]/vec[0])\n",
    "        ax.plot(phi_rad, theta_deg, \".\", color = \"red\")\n",
    "        \n",
    "        \n",
    "#plot direction cosines minus average\n",
    "beam_i = tomo.beam_l[id_x][id_y]\n",
    "\n",
    "vec = [beam_i.e_x, beam_i.e_y, beam_i.e_z]\n",
    "vec = vec - vec_mean\n",
    "vec = vec / np.linalg.norm(vec)\n",
    "print(vec)\n",
    "theta_deg = np.degrees(np.arccos(vec[2]))\n",
    "phi_rad = np.arctan(vec[1]/vec[0])\n",
    "#ax.plot(phi_rad, theta_deg, \".\", color = \"green\")\n",
    "\n",
    "# In the future apply transform to all points that maps the average vector to 0,0,1. "
   ]
  },
  {
   "cell_type": "code",
   "execution_count": null,
   "metadata": {},
   "outputs": [],
   "source": [
    "vec_mean = tomo.find_mean_dir_cos()\n",
    "fig, ax_arr = plt.subplots(subplot_kw={'projection': 'polar'},\n",
    "                           figsize=(2 * tomo.shape[1], 2 * tomo.shape[0]),\n",
    "                           nrows=tomo.shape[0],\n",
    "                           ncols=tomo.shape[1])\n",
    "\n",
    "e_mean_x, e_mean_y, e_mean_z = tomo.mean_dir_cos\n",
    "\n",
    "#plot mean direction cosines\n",
    "fig, ax = plt.subplots(subplot_kw={'projection': 'polar'})\n",
    "\n",
    "#plot all direction cosines\n",
    "\n",
    "\n",
    "\n",
    "for id_x in range(tomo.shape[0]):\n",
    "    for id_y in range(tomo.shape[1]):\n",
    "        beam_i = tomo.beam_l[id_x][id_y]\n",
    "        e_x, e_y, e_z = beam_i.e_x, beam_i.e_y, beam_i.e_z\n",
    "        \n",
    "        e_x = e_x - vec_mean[0]\n",
    "        e_y = e_y - vec_mean[1]\n",
    "        e_z = e_z - vec_mean[2]\n",
    "\n",
    "        theta = np.arccos(e_z)\n",
    "        phi = np.arctan(e_y / e_x)\n",
    "        label = f\"{id_x:.0f}x{id_y:.0f}, $\\\\theta = {{ {np.degrees(theta):.1f} }}^\\circ, \\\\phi = {{ {np.degrees(phi):.1f} }}^\\circ$\"\n",
    "\n",
    "        ax_arr[id_x][id_y].plot(phi, np.degrees(theta), \"o\")\n",
    "        ax_arr[id_x][id_y].set_title(f\"{label}\", fontsize=10)\n",
    "        ax_arr[id_x][id_y].set_rlim(0, 15)\n",
    "\n",
    "plt.tight_layout()"
   ]
  },
  {
   "cell_type": "code",
   "execution_count": null,
   "metadata": {},
   "outputs": [],
   "source": [
    "id_x, id_y = 0, 0\n",
    "beam_i = tomo.beam_l[id_x][id_y]\n",
    "e_x, e_y, e_z = beam_i.e_x, beam_i.e_y, beam_i.e_z\n",
    "\n",
    "\n",
    "e_x_m = vec_mean[0]\n",
    "e_y_m = vec_mean[1]\n",
    "e_z_m = vec_mean[2]\n",
    "\n",
    "#default direction\n",
    "e_x =e_x\n",
    "e_y =e_y\n",
    "e_z =e_z\n",
    "\n",
    "theta_rad = np.arccos(e_z)\n",
    "phi_rad = np.arctan(e_y / e_x)\n",
    "theta_deg = np.degrees(theta_rad)\n",
    "phi_deg = np.degrees(phi_rad)\n",
    "print(f\"Default directions: theta_deg = {theta_deg:.2f}°phi_deg = {phi_deg:.2f}°\")\n",
    "\n",
    "#average directions\n",
    "theta_m_rad = np.arccos(e_z_m)\n",
    "phi_m_rad = np.arctan(e_y_m / e_x_m)\n",
    "theta_m_deg = np.degrees(theta_m_rad)\n",
    "phi_m_deg = np.degrees(phi_m_rad)\n",
    "print(f\"Average directions: theta_m_deg = {theta_m_deg:.2f}°phi_m_deg = {phi_m_deg:.2f}°\")\n",
    "\n",
    "\n",
    "label = f\" $\\\\theta = {{ {np.degrees(theta):.1f} }}^\\circ, \\\\phi = {{ {np.degrees(phi):.1f} }}^\\circ$\"\n",
    "fig, ax = plt.subplots(subplot_kw={'projection': 'polar'})\n",
    "print(\"theta\", theta)\n",
    "print(\"phi_deg\", phi_deg)\n",
    "\n",
    "ax.plot(phi_rad, theta_deg, \".\", label =\"default\") # default\n",
    "ax.plot(phi_m_rad, theta_m_deg, \".\", label = \"average\") # average\n",
    "\n",
    "ax.set_title(f\"{label}\", fontsize=10)\n",
    "#ax.set_rlim(0, 15)\n",
    "\n",
    "plt.legend()\n",
    "plt.tight_layout()"
   ]
  },
  {
   "cell_type": "code",
   "execution_count": null,
   "metadata": {},
   "outputs": [],
   "source": [
    "fig, ax_arr = plt.subplots(subplot_kw={'projection': 'polar'},\n",
    "                           figsize = (2*tomo.shape[1], 2*tomo.shape[0]),\n",
    "                           nrows = tomo.shape[0],\n",
    "                           ncols = tomo.shape[1])\n",
    "\n",
    "for id_x in range(tomo.shape[0]):\n",
    "    for id_y in range(tomo.shape[1]):\n",
    "        beam_i = tomo.beam_l[id_x][id_y]\n",
    "        e_x, e_y, e_z = beam_i.e_x, beam_i.e_y, beam_i.e_z\n",
    "\n",
    "        theta = np.arccos(e_z)\n",
    "        phi = np.arctan(e_y/e_x)  \n",
    "        label = f\"{id_x:.0f}x{id_y:.0f}, $\\\\theta = {{ {np.degrees(theta):.1f} }}^\\circ, \\\\phi = {{ {np.degrees(phi):.1f} }}^\\circ$\"\n",
    "\n",
    "        ax_arr[id_x][id_y].plot(phi, np.degrees(theta), \"o\")\n",
    "        ax_arr[id_x][id_y].set_title(f\"{label}\", fontsize = 10)\n",
    "        ax_arr[id_x][id_y].set_rlim(0, 15)\n",
    "    \n",
    "plt.tight_layout()"
   ]
  },
  {
   "cell_type": "code",
   "execution_count": null,
   "metadata": {},
   "outputs": [],
   "source": [
    "n_rows = tomo.shape[0]\n",
    "n_cols = tomo.shape[1]\n",
    "\n",
    "fig, ax_arr = plt.subplots(subplot_kw={'projection': 'polar'},\n",
    "                           figsize = (12, 6),\n",
    "                           nrows = n_rows,\n",
    "                           ncols = n_cols)\n",
    "\n",
    "for id_x in range(n_rows):\n",
    "    for id_y in range(n_cols):\n",
    "        ax = ax_arr[-id_x-1][id_y]\n",
    "        beam_i = tomo.beam_l[id_x][id_y]\n",
    "        e_x, e_y, e_z = beam_i.e_x, beam_i.e_y, beam_i.e_z\n",
    "        \n",
    "        theta = np.arccos(e_z)\n",
    "        phi = np.arctan(e_y/e_x)  \n",
    "        #label = f\"{id_x:.0f}x{id_y:.0f}\"\n",
    "\n",
    "        ax.set_rlim(0, 1.5)\n",
    "        ax.set_rticks([0.5, 1, 1.5])\n",
    "        ax.set_yticklabels([])\n",
    "        \n",
    "        ax.plot(phi, np.degrees(theta), \"o\")\n",
    "        #ax.set_title(f\"{label}\", fontsize = 10)\n",
    "        \n",
    "plt.tight_layout()\n"
   ]
  },
  {
   "cell_type": "code",
   "execution_count": null,
   "metadata": {},
   "outputs": [],
   "source": [
    " #ax.set_rticks([])\n",
    "            #ax2.set_rgrids([0.5, 1, 1.5])\n",
    "                        #ax.set_xticklabels(['N', '', 'W', '', 'S', '', 'E', ''])\n",
    "            #ax.set_xticklabels(['', '', '', '', '', '', '', ''])\n",
    "            #ax.set_rlabel_position(120)\n",
    "\n",
    "            #ax.plot(phi, np.degrees(theta), \"o\")\n",
    "            #ax.set_title(f\"{label}\", fontsize = 10)"
   ]
  },
  {
   "cell_type": "code",
   "execution_count": null,
   "metadata": {},
   "outputs": [],
   "source": [
    "div_x_arr.shape"
   ]
  },
  {
   "cell_type": "code",
   "execution_count": null,
   "metadata": {},
   "outputs": [],
   "source": []
  },
  {
   "cell_type": "code",
   "execution_count": null,
   "metadata": {},
   "outputs": [],
   "source": [
    "id_x = 0\n",
    "id_y = 0\n",
    "\n",
    "div_x_arr = np.zeros(x.shape)\n",
    "for id_x in range(x.shape[0]):\n",
    "    for id_y in range(x.shape[1]):\n",
    "        beam_i = tomo.beam_l[id_x][id_y]\n",
    "        div_x_arr[id_x, id_y] = beam_i.div_x\n",
    "        #print(id_x, id_y, \":\", beam_i.div_x)\n",
    "div_x_arr"
   ]
  },
  {
   "cell_type": "code",
   "execution_count": null,
   "metadata": {},
   "outputs": [],
   "source": [
    "# Create a grid of x, y values\n",
    "x_values = np.linspace(-5, 5, 10)\n",
    "y_values = np.linspace(-5, 5, 10)\n",
    "x, y = np.meshgrid(x_values, y_values)\n",
    "\n",
    "# Evaluate the function on the grid\n",
    "z = f(x, y)\n",
    "\n",
    "# Plot using a colormap\n",
    "plt.figure(figsize=(8, 6))\n",
    "colormap = plt.pcolormesh(x, y, z, cmap='viridis', shading='auto')\n",
    "\n",
    "# Print the value of the function on each square\n",
    "for (i, j), val in np.ndenumerate(z):\n",
    "    plt.text(x_values[j], y_values[i], f\"{val:.2f}\", ha='center', va='center', color='white')\n",
    "\n",
    "# Adding color bar, labels and title\n",
    "plt.colorbar(colormap)\n",
    "plt.xlabel('x')\n",
    "plt.ylabel('y')\n",
    "plt.title('Scalar values of f(x, y) over a grid')\n",
    "plt.show()\n"
   ]
  },
  {
   "cell_type": "markdown",
   "metadata": {},
   "source": [
    "## Visualise first layer with ROI"
   ]
  },
  {
   "cell_type": "markdown",
   "metadata": {},
   "source": [
    "## Beam and cross section classes"
   ]
  },
  {
   "cell_type": "markdown",
   "metadata": {},
   "source": [
    "## Collect cross sections of the same beam for different z"
   ]
  },
  {
   "cell_type": "code",
   "execution_count": null,
   "metadata": {},
   "outputs": [],
   "source": []
  },
  {
   "cell_type": "code",
   "execution_count": null,
   "metadata": {},
   "outputs": [],
   "source": []
  },
  {
   "cell_type": "code",
   "execution_count": null,
   "metadata": {},
   "outputs": [],
   "source": []
  }
 ],
 "metadata": {
  "kernelspec": {
   "display_name": "Python 3 (ipykernel)",
   "language": "python",
   "name": "python3"
  },
  "language_info": {
   "codemirror_mode": {
    "name": "ipython",
    "version": 3
   },
   "file_extension": ".py",
   "mimetype": "text/x-python",
   "name": "python",
   "nbconvert_exporter": "python",
   "pygments_lexer": "ipython3",
   "version": "3.8.10"
  },
  "toc": {
   "base_numbering": 1,
   "nav_menu": {},
   "number_sections": true,
   "sideBar": true,
   "skip_h1_title": false,
   "title_cell": "Table of Contents",
   "title_sidebar": "Contents",
   "toc_cell": false,
   "toc_position": {
    "height": "calc(100% - 180px)",
    "left": "10px",
    "top": "150px",
    "width": "228.333px"
   },
   "toc_section_display": true,
   "toc_window_display": false
  }
 },
 "nbformat": 4,
 "nbformat_minor": 4
}
