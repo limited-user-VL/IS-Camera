{
 "cells": [
  {
   "cell_type": "code",
   "execution_count": 1,
   "metadata": {},
   "outputs": [],
   "source": [
    "%matplotlib notebook\n",
    "from beam_tomo import *\n",
    "plt.rcParams['figure.max_open_warning'] = 50\n"
   ]
  },
  {
   "cell_type": "markdown",
   "metadata": {},
   "source": [
    "# Previous work on beam tomography "
   ]
  },
  {
   "cell_type": "markdown",
   "metadata": {},
   "source": [
    "Link for report with previous beam tomography:(link)[https://docs.google.com/document/d/1uOGDw6qHZKiGV28OnOs043JRSdri8LaaIsc8oYo4Qxg/edit#bookmark=id.4wuwfttv8kr]\n"
   ]
  },
  {
   "cell_type": "markdown",
   "metadata": {},
   "source": [
    "# Description of measurements "
   ]
  },
  {
   "cell_type": "markdown",
   "metadata": {},
   "source": [
    "1. Acquisition #1 - 17.29.50 tomography.pkl (z from 14.6 to 16.6, PWM = 7%, exp = 1/40 000, 25us)\n",
    "2. Acquisition #2 - 17.44.35 tomography.pkl (z from 14.6 to 17.6, PWM = 7%, exp = 1/40 000, 25us)\n",
    "\n",
    "3. Acquisition #3 - 17.50.51 tomography.pkl (z from 14.6 to 18.6, PWM = 8%, exp = 1/40 000, 25us) - seems decoupled\n",
    "\n",
    "4. Acquisition #4 - (re-coupled) - 17.56.48 tomography.pkl (z from 14.7 to 18.7)\n",
    "5. Acquisition #5 - 18.02.48 tomography.pkl -same as acquisition 4, after rechecking coupling;\n"
   ]
  },
  {
   "cell_type": "markdown",
   "metadata": {},
   "source": [
    "# 1. List and load measurements "
   ]
  },
  {
   "cell_type": "code",
   "execution_count": 2,
   "metadata": {},
   "outputs": [
    {
     "name": "stdout",
     "output_type": "stream",
     "text": [
      "Filename:  17.44.35 tomography.pkl\n",
      "Loaded\n",
      "Tomography measurement:\n",
      "\n",
      "        - Filename = 17.44.35 tomography.pkl\n",
      "\n",
      "        - Number of beam rows = 3\n",
      "\n",
      "        - Number of beam cols = 10\n",
      "\n",
      "        - Z-spacing: 0.100mm\n",
      "\n",
      "        - Number of cross sections: 30\n",
      "        \n"
     ]
    }
   ],
   "source": [
    "filenames = [item for item in os.listdir() if \".pkl\" in item]\n",
    "filenames\n",
    "\n",
    "filename = filenames[4]\n",
    "print(\"Filename: \", filename)\n",
    "\n",
    "#load data\n",
    "tomo = Tomography(filename, (3,10))\n",
    "tomo.load_data()"
   ]
  },
  {
   "cell_type": "markdown",
   "metadata": {},
   "source": [
    "# 2. Visualise cross sections "
   ]
  },
  {
   "cell_type": "code",
   "execution_count": null,
   "metadata": {
    "scrolled": true
   },
   "outputs": [],
   "source": [
    "#load cross sections\n",
    "for cross_sect_i in tomo.cross_sect_l:\n",
    "    if cross_sect_i.image_rot is not None:\n",
    "        cross_sect_i.show_cross_section(rotated = True)\n",
    "    else:\n",
    "        cross_sect_i.show_cross_section(rotated = False)"
   ]
  },
  {
   "cell_type": "markdown",
   "metadata": {},
   "source": [
    "# 3. Find rotation angle and spacing"
   ]
  },
  {
   "cell_type": "code",
   "execution_count": 3,
   "metadata": {},
   "outputs": [
    {
     "name": "stdout",
     "output_type": "stream",
     "text": [
      "Extracting rotation angle for the lowest z cross section.\n"
     ]
    },
    {
     "name": "stderr",
     "output_type": "stream",
     "text": [
      "100%|███████████████████████████████████████████| 90/90 [00:18<00:00,  4.74it/s]\n"
     ]
    },
    {
     "name": "stdout",
     "output_type": "stream",
     "text": [
      "Optimal rotation angle = 47.00deg\n",
      "Extracting the grid spacing\n",
      "Average spacing [px] between beams = 145.25\n",
      "Updating the rotation angle and rotated image for each cross section.\n"
     ]
    },
    {
     "name": "stderr",
     "output_type": "stream",
     "text": [
      "100%|███████████████████████████████████████████| 30/30 [00:02<00:00, 11.94it/s]\n"
     ]
    }
   ],
   "source": [
    "tomo.find_rot_spacing(angle_step = 1.0)"
   ]
  },
  {
   "cell_type": "markdown",
   "metadata": {},
   "source": [
    "## "
   ]
  },
  {
   "cell_type": "markdown",
   "metadata": {},
   "source": [
    "# 4. Extract beam coord of first layer --> tomo.coord_init()"
   ]
  },
  {
   "cell_type": "code",
   "execution_count": 4,
   "metadata": {},
   "outputs": [
    {
     "name": "stdout",
     "output_type": "stream",
     "text": [
      "Coordinates of beam in first layer were determined.\n"
     ]
    }
   ],
   "source": [
    "#tomo.coord_init()\n",
    "tomo.init_coord()"
   ]
  },
  {
   "cell_type": "code",
   "execution_count": 5,
   "metadata": {},
   "outputs": [
    {
     "data": {
      "text/plain": [
       "[array([656.        , 365.        ,  14.69997668])]"
      ]
     },
     "execution_count": 5,
     "metadata": {},
     "output_type": "execute_result"
    }
   ],
   "source": [
    "tomo.beam_l[0][0].beam_coord_l"
   ]
  },
  {
   "cell_type": "markdown",
   "metadata": {},
   "source": [
    "# 5. Extract single beam coords across cross-section"
   ]
  },
  {
   "cell_type": "code",
   "execution_count": 8,
   "metadata": {},
   "outputs": [
    {
     "name": "stdout",
     "output_type": "stream",
     "text": [
      "[[49 58]]\n",
      "[[48 56]]\n",
      "[[49 51]]\n",
      "[[47 57]]\n",
      "[[45 49]]\n",
      "[[50 54]]\n",
      "[[46 57]]\n",
      "[[42 48]]\n",
      "[[50 62]]\n",
      "[[45 57]]\n",
      "[[45 54]]\n",
      "[[49 49]]\n",
      "[[36 48]]\n",
      "[[56 60]]\n",
      "[[48 50]]\n",
      "[[42 52]]\n",
      "[[40 48]]\n",
      "[[46 54]]\n",
      "[[54 71]]\n",
      "[[39 37]]\n",
      "[[98 28]]\n",
      "[[58 45]]\n",
      "[[97 48]]\n",
      "[[59 43]]\n",
      "[[52 48]]\n",
      "[[50 59]]\n",
      "[[50  4]]\n",
      "[[44  3]]\n",
      "[[52 67]]\n"
     ]
    }
   ],
   "source": [
    "#tomo.complete_coord()\n",
    "\n",
    "for id_z in range(tomo.n_sections-1):\n",
    "    roi_width = 100\n",
    "    #for an arbitrary beam, extract the coords in the cross section z_1\n",
    "    id_x = 0\n",
    "    id_y = 0\n",
    "    \n",
    "\n",
    "    #beam info in cross section i\n",
    "    beam_i = tomo.beam_l[id_x][id_y]\n",
    "    coord_x, coord_y, coord_z = tomo.beam_l[id_x][id_y].beam_coord_l[id_z]\n",
    "    image_i = tomo.cross_sect_l[id_z].image_rot\n",
    "    roi_i = image_i[int(coord_x-roi_width/2.): int(coord_x+roi_width/2.),\n",
    "                    int(coord_y-roi_width/2.): int(coord_y+roi_width/2.)]\n",
    "    if id_z == 0:\n",
    "        beam_i.roi_l.append(roi_i)\n",
    "\n",
    "\n",
    "    #beam info in cross section i+1\n",
    "    image_ip1 = tomo.cross_sect_l[id_z+1].image_rot\n",
    "    roi_ip1 = image_ip1[int(coord_x-roi_width/2.): int(coord_x+roi_width/2.),\n",
    "                    int(coord_y-roi_width/2.): int(coord_y+roi_width/2.)]\n",
    "\n",
    "    #establish new coordinates v1\n",
    "    peak_arr = feature.peak_local_max(roi_ip1, num_peaks = 1, min_distance=1)\n",
    "    print(peak_arr)\n",
    "    \n",
    "    coord_x = int(peak_arr[0][0] + coord_x-roi_width/2.)\n",
    "    coord_y = int(peak_arr[0][1] + coord_y-roi_width/2.)\n",
    "    coord_z = tomo.cross_sect_z_l[id_z+1]\n",
    "    \n",
    "    #establish new coordintes v2\n",
    "    #coord_roi_y, coord_roi_x = find_centroid(roi_ip1)\n",
    "    #coord_x = coord_roi_x + int(coord_x-roi_width/2.)\n",
    "    #coord_y = coord_roi_y + int(coord_y-roi_width/2.)\n",
    "    #coord_z = tomo.cross_sect_z_l[id_z+1]\n",
    "    \n",
    "    #establish new coordinates v3\n",
    "\n",
    "    #update beam_i information (roi_l and beam_coord_l)\n",
    "    roi_ip1 = image_ip1[int(coord_x-roi_width/2.): int(coord_x+roi_width/2.),\n",
    "                    int(coord_y-roi_width/2.): int(coord_y+roi_width/2.)]\n",
    "    beam_i.roi_l.append(roi_ip1)\n",
    "    beam_i.beam_coord_l.append(np.array([coord_x, coord_y, coord_z]))\n",
    "\n",
    "\n",
    "#for beam_i, in cross section z+1, define ROI from coordinates in cross section z\n",
    "#cross_sect_i = tomo.cross_sect_l[id_z+1]\n",
    "#f, ax = cross_sect_i.show_cross_section()\n",
    "#rect = Rectangle((coord_x-roi_width/2., coord_y-roi_width/2), roi_width, roi_width, linewidth=2, edgecolor='r', facecolor='none')\n",
    "#ax.add_patch(rect)\n",
    "\n",
    "\n",
    "\n",
    "#for beam_i, in cross section z+1, re-evaluate the position of the centroid\n"
   ]
  },
  {
   "cell_type": "code",
   "execution_count": null,
   "metadata": {},
   "outputs": [],
   "source": [
    "tomo.beam_l[0][0].beam_coord_l"
   ]
  },
  {
   "cell_type": "code",
   "execution_count": null,
   "metadata": {
    "scrolled": false
   },
   "outputs": [],
   "source": [
    "for i in range(tomo.n_sections):\n",
    "    roi_i = beam_i.roi_l[i]\n",
    "    plt.figure()\n",
    "    plt.title(f\"z_id = {i:.0f},z = {tomo.cross_sect_z_l[i]:.2f}mm\")\n",
    "    plt.imshow(roi_i, origin=\"lower\")\n",
    "    plt.scatter(x = 50, y = 50, color = \"red\", s=2)\n",
    "    "
   ]
  },
  {
   "cell_type": "code",
   "execution_count": null,
   "metadata": {
    "scrolled": true
   },
   "outputs": [],
   "source": [
    "for i in range(tomo.n_sections):\n",
    "    plt.figure()\n",
    "    plt.title(f\"z_id = {i:.0f},z = {tomo.cross_sect_z_l[i]:.2f}mm\")\n",
    "    plt.imshow(tomo.cross_sect_l[i].image_rot, origin=\"lower\")\n",
    "    x, y, z = beam_i.beam_coord_l[i]\n",
    "    plt.scatter(y,x, color = \"red\", s = 1)"
   ]
  },
  {
   "cell_type": "code",
   "execution_count": null,
   "metadata": {},
   "outputs": [],
   "source": [
    "x_arr = np.array(beam_i.beam_coord_l)[:,0]\n",
    "y_arr = np.array(beam_i.beam_coord_l)[:,1]\n",
    "\n",
    "limit = 15\n",
    "plt.scatter(x_arr[:limit],y_arr[:limit], )"
   ]
  },
  {
   "cell_type": "code",
   "execution_count": null,
   "metadata": {},
   "outputs": [],
   "source": [
    "id_z = 0\n",
    "tomo.beam_l[id_x][id_y].beam_coord_l[id_z]"
   ]
  },
  {
   "cell_type": "code",
   "execution_count": null,
   "metadata": {},
   "outputs": [],
   "source": [
    "beam_i.beam_coord_l"
   ]
  },
  {
   "cell_type": "code",
   "execution_count": null,
   "metadata": {},
   "outputs": [],
   "source": [
    "plt.imshow(roi_ip1)"
   ]
  },
  {
   "cell_type": "markdown",
   "metadata": {},
   "source": [
    "# 6. Extract beam ROIs for each cross section"
   ]
  },
  {
   "cell_type": "markdown",
   "metadata": {},
   "source": [
    "# 7. Extract beam parameters (tilt_x, tilt_y, div_x, div_y) "
   ]
  },
  {
   "cell_type": "markdown",
   "metadata": {},
   "source": [
    "# 8. Visualise cross sections with location of beams and ROIs"
   ]
  },
  {
   "cell_type": "markdown",
   "metadata": {},
   "source": [
    "# 9. Visualise single beam (3D)"
   ]
  },
  {
   "cell_type": "code",
   "execution_count": null,
   "metadata": {},
   "outputs": [],
   "source": [
    "tomo.find_beams()"
   ]
  },
  {
   "cell_type": "markdown",
   "metadata": {},
   "source": [
    "## Visualise first layer with ROI"
   ]
  },
  {
   "cell_type": "code",
   "execution_count": null,
   "metadata": {},
   "outputs": [],
   "source": []
  },
  {
   "cell_type": "code",
   "execution_count": null,
   "metadata": {},
   "outputs": [],
   "source": []
  },
  {
   "cell_type": "markdown",
   "metadata": {},
   "source": []
  },
  {
   "cell_type": "code",
   "execution_count": null,
   "metadata": {},
   "outputs": [],
   "source": []
  },
  {
   "cell_type": "code",
   "execution_count": null,
   "metadata": {},
   "outputs": [],
   "source": [
    "time_start = time.time()\n",
    "\n",
    "#call tomo.coord_init()\n",
    "exp_num_peaks = tomo.shape[0]*tomo.shape[1]\n",
    "cross_i = tomo.cross_sect_l[0]\n",
    "spacing = int(cross_i.spacing_px)\n",
    "image_i = tomo.cross_sect_l[0].image_rot\n",
    "\n",
    "peak_arr = feature.peak_local_max(image_i, num_peaks = exp_num_peaks, min_distance = int(spacing*0.9))\n",
    "\n",
    "#pass info to cross section\n",
    "#tomo.cross_sect_l[0].beam_coord_l = peak_arr\n",
    "\n",
    "#pass info to each beam in tomo.beam_l\n",
    "#for beam_i in tomo.beam_l:\n",
    "#    beam_i.beam_coord_l = peak_arr\n",
    "\n",
    "#time_stop = time.time()\n",
    "#print(\"The task took\", time_stop-time_start, \"s to complete.\")"
   ]
  },
  {
   "cell_type": "code",
   "execution_count": null,
   "metadata": {},
   "outputs": [],
   "source": [
    "a = list()\n",
    "peak_arr[3]\n",
    "a.append(peak_arr[3])"
   ]
  },
  {
   "cell_type": "code",
   "execution_count": null,
   "metadata": {},
   "outputs": [],
   "source": [
    "tomo.cross_sect_l[0].beam_coord_l = peak_arr"
   ]
  },
  {
   "cell_type": "code",
   "execution_count": null,
   "metadata": {},
   "outputs": [],
   "source": [
    "peak_arr = [[peak_arr[i,j] for j in range(tomo.shape[1])] for i in range(tomo.shape[0])]"
   ]
  },
  {
   "cell_type": "code",
   "execution_count": null,
   "metadata": {},
   "outputs": [],
   "source": [
    "f, ax = tomo.cross_sect_l[0].show_image(rotated=True)"
   ]
  },
  {
   "cell_type": "code",
   "execution_count": null,
   "metadata": {},
   "outputs": [],
   "source": [
    "peak_arr.shape"
   ]
  },
  {
   "cell_type": "code",
   "execution_count": null,
   "metadata": {},
   "outputs": [],
   "source": [
    "peak_arr.reshape(tomo.shape[0], tomo.shape[1], -1)"
   ]
  },
  {
   "cell_type": "code",
   "execution_count": null,
   "metadata": {},
   "outputs": [],
   "source": [
    "tomo.cross_sect_l[0].show_image()"
   ]
  },
  {
   "cell_type": "code",
   "execution_count": null,
   "metadata": {},
   "outputs": [],
   "source": [
    "#label beams - line_id, col_id\n",
    "kmeans_line = KMeans(n_clusters = 3)\n",
    "kmeans_line.fit(peak_sorted_arr[:,0].reshape(-1,1))\n",
    "line_id = kmeans_line.labels_"
   ]
  },
  {
   "cell_type": "code",
   "execution_count": null,
   "metadata": {},
   "outputs": [],
   "source": [
    "plt.imshow(tomo.cross_sect_l[8].image_rot)"
   ]
  },
  {
   "cell_type": "code",
   "execution_count": null,
   "metadata": {},
   "outputs": [],
   "source": []
  },
  {
   "cell_type": "markdown",
   "metadata": {},
   "source": [
    "## Beam and cross section classes"
   ]
  },
  {
   "cell_type": "markdown",
   "metadata": {},
   "source": [
    "## Collect cross sections of the same beam for different z"
   ]
  }
 ],
 "metadata": {
  "kernelspec": {
   "display_name": "Python 3 (ipykernel)",
   "language": "python",
   "name": "python3"
  },
  "language_info": {
   "codemirror_mode": {
    "name": "ipython",
    "version": 3
   },
   "file_extension": ".py",
   "mimetype": "text/x-python",
   "name": "python",
   "nbconvert_exporter": "python",
   "pygments_lexer": "ipython3",
   "version": "3.9.12"
  },
  "toc": {
   "base_numbering": 1,
   "nav_menu": {},
   "number_sections": true,
   "sideBar": true,
   "skip_h1_title": false,
   "title_cell": "Table of Contents",
   "title_sidebar": "Contents",
   "toc_cell": false,
   "toc_position": {
    "height": "calc(100% - 180px)",
    "left": "10px",
    "top": "150px",
    "width": "239.667px"
   },
   "toc_section_display": true,
   "toc_window_display": true
  }
 },
 "nbformat": 4,
 "nbformat_minor": 4
}
