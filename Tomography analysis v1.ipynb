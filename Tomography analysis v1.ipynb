{
 "cells": [
  {
   "cell_type": "code",
   "execution_count": 1,
   "metadata": {},
   "outputs": [],
   "source": [
    "import pickle\n",
    "import numpy as np\n",
    "import os\n",
    "import skimage\n",
    "from skimage import transform as t\n",
    "from skimage import exposure as e\n",
    "from skimage import filters as f\n",
    "from skimage import feature\n",
    "from skimage.measure import regionprops #for center of mass\n",
    "from tqdm import tqdm\n",
    "\n",
    "from sklearn.cluster import KMeans\n",
    "\n",
    "import matplotlib.pyplot as plt\n",
    "from matplotlib.patches import Rectangle\n",
    "\n",
    "def find_centroid(image):\n",
    "    # Get image shape\n",
    "    rows, cols = image.shape\n",
    "\n",
    "    # Calculate the moments\n",
    "    m00 = np.sum(image)\n",
    "    m10 = np.sum(np.arange(cols) * image)\n",
    "    m01 = np.sum(np.arange(rows) * image.T)\n",
    "\n",
    "    # Calculate centroid coordinates\n",
    "    centroid_x = m10 / m00\n",
    "    centroid_y = m01 / m00\n",
    "\n",
    "    return centroid_x, centroid_y"
   ]
  },
  {
   "cell_type": "code",
   "execution_count": null,
   "metadata": {},
   "outputs": [],
   "source": [
    "os.getcwd()"
   ]
  },
  {
   "cell_type": "markdown",
   "metadata": {},
   "source": [
    "# Previous work on beam tomography "
   ]
  },
  {
   "cell_type": "markdown",
   "metadata": {},
   "source": [
    "Link for report with previous beam tomography:(link)[https://docs.google.com/document/d/1uOGDw6qHZKiGV28OnOs043JRSdri8LaaIsc8oYo4Qxg/edit#bookmark=id.4wuwfttv8kr]\n"
   ]
  },
  {
   "cell_type": "markdown",
   "metadata": {},
   "source": [
    "# Description of measurements "
   ]
  },
  {
   "cell_type": "markdown",
   "metadata": {},
   "source": [
    "1. Acquisition #1 - 17.29.50 tomography.pkl (z from 14.6 to 16.6, PWM = 7%, exp = 1/40 000, 25us)\n",
    "2. Acquisition #2 - 17.44.35 tomography.pkl (z from 14.6 to 17.6, PWM = 7%, exp = 1/40 000, 25us)\n",
    "\n",
    "3. Acquisition #3 - 17.50.51 tomography.pkl (z from 14.6 to 18.6, PWM = 8%, exp = 1/40 000, 25us) - seems decoupled\n",
    "\n",
    "4. Acquisition #4 - (re-coupled) - 17.56.48 tomography.pkl (z from 14.7 to 18.7)\n",
    "5. Acquisition #5 - 18.02.48 tomography.pkl -same as acquisition 4, after rechecking coupling;\n"
   ]
  },
  {
   "cell_type": "markdown",
   "metadata": {},
   "source": [
    "# List and load measurements "
   ]
  },
  {
   "cell_type": "code",
   "execution_count": 2,
   "metadata": {},
   "outputs": [
    {
     "data": {
      "text/plain": [
       "['17.29.50 tomography.pkl',\n",
       " '17.44.35 tomography.pkl',\n",
       " '17.50.51 tomography.pkl',\n",
       " '17.56.48 tomography.pkl',\n",
       " '18.02.48 tomography.pkl']"
      ]
     },
     "execution_count": 2,
     "metadata": {},
     "output_type": "execute_result"
    }
   ],
   "source": [
    "filenames = [item for item in os.listdir() if \".pkl\" in item]\n",
    "filenames"
   ]
  },
  {
   "cell_type": "code",
   "execution_count": 5,
   "metadata": {
    "scrolled": true
   },
   "outputs": [
    {
     "name": "stdout",
     "output_type": "stream",
     "text": [
      "Filename:  18.02.48 tomography.pkl\n",
      "Loaded\n",
      "Tomography measurement:\n",
      "\n",
      "        - Filename = 18.02.48 tomography.pkl\n",
      "\n",
      "        - Number of beam rows = 3\n",
      "\n",
      "        - Number of beam cols = 10\n",
      "\n",
      "        - Z-spacing: 0.100mm\n",
      "\n",
      "        - Number of cross sections: 40\n",
      "        \n"
     ]
    }
   ],
   "source": [
    "filename = filenames[4]\n",
    "print(\"Filename: \", filename)\n",
    "\n",
    "#load data\n",
    "tomo = Tomography(filename, (3,10))\n",
    "tomo.load_data()"
   ]
  },
  {
   "cell_type": "code",
   "execution_count": null,
   "metadata": {
    "scrolled": true
   },
   "outputs": [],
   "source": [
    "#load cross sections\n",
    "for cross_sect_i in tomo.cross_sect_l:\n",
    "    cross_sect_i.show_image()"
   ]
  },
  {
   "cell_type": "code",
   "execution_count": 6,
   "metadata": {},
   "outputs": [
    {
     "name": "stdout",
     "output_type": "stream",
     "text": [
      "Extracting rotation angle for the lowest z cross section.\n"
     ]
    },
    {
     "name": "stderr",
     "output_type": "stream",
     "text": [
      "100%|████████████████████████████████████████████████████████████████████████████████| 180/180 [02:37<00:00,  1.14it/s]\n"
     ]
    },
    {
     "name": "stdout",
     "output_type": "stream",
     "text": [
      "Optimal rotation angle = 46.50deg\n",
      "Updating the rotation angle and rotated image for each cross section.\n"
     ]
    },
    {
     "name": "stderr",
     "output_type": "stream",
     "text": [
      "100%|██████████████████████████████████████████████████████████████████████████████████| 40/40 [00:07<00:00,  5.60it/s]"
     ]
    },
    {
     "name": "stdout",
     "output_type": "stream",
     "text": [
      "Extracting the grid spacing\n"
     ]
    },
    {
     "name": "stderr",
     "output_type": "stream",
     "text": [
      "\n"
     ]
    }
   ],
   "source": [
    "peak_arr = tomo.find_geometry(angle_step = 0.5)"
   ]
  },
  {
   "cell_type": "code",
   "execution_count": 11,
   "metadata": {},
   "outputs": [],
   "source": [
    "peak_arr = arr"
   ]
  },
  {
   "cell_type": "code",
   "execution_count": 51,
   "metadata": {},
   "outputs": [],
   "source": [
    "#label beams - line_id, col_id\n",
    "kmeans_rows = KMeans(n_clusters = 3)\n",
    "kmeans_rows.fit(peak_arr[:,0].reshape(-1,1)) #kmeans, 1 cluster per row\n",
    "coords_rows = kmeans_rows.cluster_centers_\n",
    "mean_delta_x = np.mean(np.diff(np.sort(coords_rows, axis = 0), axis = 0)) #spacing between rows\n",
    "\n",
    "spacing = (mean_delta_x + mean_delta_y)*0.5"
   ]
  },
  {
   "cell_type": "code",
   "execution_count": 57,
   "metadata": {},
   "outputs": [
    {
     "data": {
      "text/plain": [
       "486.45000000000005"
      ]
     },
     "execution_count": 57,
     "metadata": {},
     "output_type": "execute_result"
    }
   ],
   "source": [
    "(145+137)/2.0*3.45"
   ]
  },
  {
   "cell_type": "code",
   "execution_count": 58,
   "metadata": {},
   "outputs": [
    {
     "data": {
      "text/plain": [
       "500.25"
      ]
     },
     "execution_count": 58,
     "metadata": {},
     "output_type": "execute_result"
    }
   ],
   "source": [
    "145*3.45"
   ]
  },
  {
   "cell_type": "code",
   "execution_count": 54,
   "metadata": {},
   "outputs": [
    {
     "data": {
      "text/plain": [
       "145.84999999999997"
      ]
     },
     "execution_count": 54,
     "metadata": {},
     "output_type": "execute_result"
    }
   ],
   "source": [
    "np.mean(np.diff(np.sort(coords_rows, axis = 0), axis = 0))"
   ]
  },
  {
   "cell_type": "code",
   "execution_count": 55,
   "metadata": {},
   "outputs": [
    {
     "data": {
      "text/plain": [
       "137.037037037037"
      ]
     },
     "execution_count": 55,
     "metadata": {},
     "output_type": "execute_result"
    }
   ],
   "source": [
    "np.mean(np.diff(np.sort(coords_cols, axis = 0), axis = 0))"
   ]
  },
  {
   "cell_type": "code",
   "execution_count": 9,
   "metadata": {},
   "outputs": [
    {
     "data": {
      "text/plain": [
       "[<matplotlib.lines.Line2D at 0x257019a63a0>]"
      ]
     },
     "execution_count": 9,
     "metadata": {},
     "output_type": "execute_result"
    },
    {
     "data": {
      "image/png": "[encoded data removed]",
      "text/plain": [
       "<Figure size 432x288 with 1 Axes>"
      ]
     },
     "metadata": {
      "needs_background": "light"
     },
     "output_type": "display_data"
    }
   ],
   "source": [
    "plt.plot(arr[:,0], arr[:,1], \".\")"
   ]
  },
  {
   "cell_type": "code",
   "execution_count": null,
   "metadata": {},
   "outputs": [],
   "source": [
    "tomo.cross_sect_l[0].image_rot is not None"
   ]
  },
  {
   "cell_type": "code",
   "execution_count": null,
   "metadata": {},
   "outputs": [],
   "source": [
    "#label beams - line_id, col_id\n",
    "kmeans_line = KMeans(n_clusters = 3)\n",
    "kmeans_line.fit(peak_sorted_arr[:,0].reshape(-1,1))\n",
    "line_id = kmeans_line.labels_"
   ]
  },
  {
   "cell_type": "code",
   "execution_count": null,
   "metadata": {},
   "outputs": [],
   "source": [
    "plt.imshow(tomo.cross_sect_l[8].image_rot)"
   ]
  },
  {
   "cell_type": "code",
   "execution_count": null,
   "metadata": {},
   "outputs": [],
   "source": []
  },
  {
   "cell_type": "markdown",
   "metadata": {},
   "source": [
    "## Beam and cross section classes"
   ]
  },
  {
   "cell_type": "code",
   "execution_count": 59,
   "metadata": {},
   "outputs": [],
   "source": [
    "class Tomography:\n",
    "    def __init__(self, filename, shape):\n",
    "        \"\"\"\n",
    "        Instantiate Tomography measurement.\n",
    "        \n",
    "        Args:\n",
    "        1. Filename (str): File location and name\n",
    "        2. Shape (tuple): (n_rows, n_cols), e.g (3,2)\n",
    "        \n",
    "        \"\"\"\n",
    "        \n",
    "        self.filename = filename\n",
    "        self.directory = os.getcwd()\n",
    "        self.shape = shape\n",
    "        \n",
    "        self.cross_sect_image_l = None #list with cross section images\n",
    "        self.cross_sect_z_l = None #list with cross section z coord\n",
    "        self.n = None #number of cross sections\n",
    "        self.z_diff = None #z difference between cross_sections;\n",
    "                \n",
    "        self.cross_sect_l = [] #list with cross section objects\n",
    "        \n",
    "        #geometric parameters --> find_geometry()\n",
    "        self.pixel_size = 3.45*10**-6 #3.45um, for IS DMM 37UX256-ML-37U\n",
    "    \n",
    "\n",
    "    def __str__(self):\n",
    "        return f\"\"\"Tomography measurement:\\n\n",
    "        - Filename = {self.filename}\\n\n",
    "        - Number of beam rows = {self.shape[0]:.0f}\\n\n",
    "        - Number of beam cols = {self.shape[1]:.0f}\\n\n",
    "        - Z-spacing: {self.z_diff:.3f}mm\\n\n",
    "        - Number of cross sections: {self.n:.0f}\n",
    "        \"\"\"\n",
    "\n",
    "    def load_data(self):\n",
    "        \"\"\"\n",
    "        Load:\n",
    "        1. List with images of the cross sections\n",
    "        2. List with values of z coordinate of each cross section\n",
    "        \"\"\"\n",
    "        with open(self.filename, \"rb\") as file:\n",
    "            data_dict = pickle.load(file)\n",
    "        \n",
    "        self.cross_sect_image_l = data_dict[\"img_store\"]\n",
    "        self.cross_sect_z_l = data_dict[\"coord_store\"]\n",
    "        self.n = len(self.cross_sect_image_l)\n",
    "        self.z_diff = np.diff(np.array(self.cross_sect_z_l)).mean()\n",
    "        \n",
    "        for i in range(self.n):\n",
    "            z_i = self.cross_sect_z_l[i]\n",
    "            shape_i = self.shape\n",
    "            image_i = self.cross_sect_image_l[i]\n",
    "            cross_i = Cross_Section(z_i, shape_i, image_i)\n",
    "            self.cross_sect_l.append(cross_i) #append cross_section object\n",
    "        \n",
    "        print(\"Loaded\")\n",
    "        print(self)\n",
    "    \n",
    "\n",
    "    def find_geometry(self, angle_step = 0.5):\n",
    "        \"\"\"\n",
    "        1. Extract geometric parameters of grid, using the first cross-section (lowest z-value)\n",
    "        2. Extract grid spacing;\n",
    "        3. Pass the angle parameter and rotated image to the remaining cross sections;\n",
    "        \"\"\"\n",
    "        \n",
    "        print(\"Extracting rotation angle for the lowest z cross section.\")\n",
    "        cross_sect_i = self.cross_sect_l[0]\n",
    "        opt_angle = cross_sect_i.find_rot_angle(angle_step = angle_step, plot = False)\n",
    "        print(f\"Optimal rotation angle = {opt_angle:.2f}deg\")\n",
    "        \n",
    "        print(\"Updating the rotation angle and rotated image for each cross section.\")\n",
    "        for cross_sect_i in tqdm(self.cross_sect_l):\n",
    "            cross_sect_i.rot_angle = opt_angle\n",
    "            cross_sect_i.image_rot = t.rotate(cross_sect_i.image, cross_sect_i.rot_angle)\n",
    "        \n",
    "        print(\"Extracting the grid spacing\")\n",
    "        cross_sect_i = self.cross_sect_l[0]\n",
    "        peak_arr = cross_sect_i.find_peaks(nrows = 3, ncols = 10, min_distance = 50)\n",
    "        \n",
    "        #label beams - line_id, col_id\n",
    "        kmeans_rows = KMeans(n_clusters = 3)\n",
    "        kmeans_rows.fit(peak_arr[:,0].reshape(-1,1)) #kmeans, 1 cluster per row\n",
    "        coords_rows = kmeans_rows.cluster_centers_\n",
    "        mean_delta_x = np.mean(np.diff(np.sort(coords_rows, axis = 0), axis = 0)) #spacing between rows\n",
    "        spacing = mean_delta_x \n",
    "\n",
    "        print(f\"Average spacing [px] between beams = {spacing:.2f}\")\n",
    "        print(\"Updating the spacing [px] for each cross section.\")\n",
    "        for cross_sect_i in tqdm(self.cross_sect_l):\n",
    "            cross_sect_i.spacing = spacing\n",
    "\n",
    "\n",
    "     \n",
    "class Cross_Section:\n",
    "    def __init__(self, z_coord, shape, image):\n",
    "        self.z_coord = z_coord\n",
    "        self.shape = shape # [n_rows x n_cols]\n",
    "        self.image = image\n",
    "\n",
    "        self.spacing = None #TO DO\n",
    "        self.rot_angle = None\n",
    "        self.image_rot = None #The main reference frame wil be rotated wrt the original\n",
    "        \n",
    "        self.beam_coord_l = None \n",
    "        self.beam_l = None #list with beam objects\n",
    "\n",
    "    \n",
    "    def __str__(self):\n",
    "        return f\"Cross section at z={self.z_coord:.2f}mm, with {self.shape[0]} rows and {self.shape[1]} cols.\"\n",
    "\n",
    "    \n",
    "    def show_image(self):\n",
    "        f, ax = plt.subplots()\n",
    "        x_range_mm = self.image.shape[1]*3.45*10**-3\n",
    "        y_range_mm = self.image.shape[0]*3.45*10**-3\n",
    "            \n",
    "        plt.imshow(self.image, origin = \"lower\", extent = [0, x_range_mm, 0, y_range_mm])\n",
    "        plt.xlabel(\"X [mm]\")\n",
    "        plt.ylabel(\"Y [mm]\")\n",
    "        plt.title(f\"Z = {self.z_coord:.2f}mm\")\n",
    "        \n",
    "        \n",
    "    def find_rot_angle(self, angle_step = 0.5, plot = False):\n",
    "        \"\"\"\n",
    "        Rotates cross section image, such that rows are horizontal\n",
    "        and columns are vertical.\n",
    "        \"\"\"\n",
    "        \n",
    "        max_arr = list()\n",
    "        angle_arr = np.arange(0, 90, angle_step)\n",
    "\n",
    "        #image is rotated by different angles\n",
    "        for angle_i in tqdm(angle_arr):\n",
    "            image_t = t.rotate(self.image, angle_i) #rotate\n",
    "            image_t = e.equalize_adapthist(image_t)\n",
    "            #plt.imshow(image_t)\n",
    "\n",
    "            horizontal_sum = np.sum(image_t, axis = 1) #sums along rows\n",
    "            horizontal_max = np.max(horizontal_sum)\n",
    "            max_arr.append(horizontal_max)\n",
    "\n",
    "        angle_opt = angle_arr[np.argmax(max_arr)] #pick rotation angle that aligns all rows;\n",
    "        self.rot_angle = angle_opt\n",
    "        self.image_rot = t.rotate(self.image, angle_opt)\n",
    "        \n",
    "        if plot:\n",
    "            plt.figure()\n",
    "            plt.plot(angle_arr, max_arr, \".\", color = \"k\")\n",
    "            plt.plot(angle_arr, max_arr, color = \"k\")\n",
    "            plt.xlabel(\"Angle [deg]\")\n",
    "\n",
    "            plt.axvline(x = angle_opt, linestyle = \"--\")\n",
    "            plt.title(f\"angle_opt = {angle_opt:.1f}deg\")\n",
    "    \n",
    "        return angle_opt\n",
    "    \n",
    "\n",
    "    def find_peaks(self, nrows = 3, ncols = 10, min_distance = 50):\n",
    "        \"\"\"\n",
    "        Find the coordinates of the beams in a cross-section;\n",
    "        Updates the list self.beam_coord_l;\n",
    "        \n",
    "        Parameters:\n",
    "        - rows (int): number of expected rows (horizontal)\n",
    "        - columns (int): number of expected columns (vertical)\n",
    "        - min_distance: minimum distance between the center of the beams;        \n",
    "        \n",
    "        \"\"\"\n",
    "        \n",
    "        if self.image_rot is not None:\n",
    "            image = self.image_rot\n",
    "            exp_num_peaks = nrows * ncols\n",
    "\n",
    "            peak_arr = feature.peak_local_max(image, num_peaks = exp_num_peaks, min_distance = min_distance)\n",
    "            self.beam_coord_l = peak_arr\n",
    "        else:\n",
    "            print(\"First evaluate rotation angle of cross section\")\n",
    "            peak_arr = None\n",
    "        \n",
    "        return peak_arr\n",
    "    \n",
    "    \n",
    "    def find_geom(self):\n",
    "        \"\"\"\n",
    "        Finds geometric properties of beam disposition:\n",
    "            1. off_x\n",
    "            2. off_y\n",
    "            3. spacing\n",
    "            4. rot_angle = \n",
    "        \"\"\"\n",
    "        \n",
    "        #procedure to find angle\n",
    "        self.off_x = None\n",
    "        self.off_y = None\n",
    "        self.spacing = None\n",
    "    \n",
    "   \n",
    "\n",
    "    def id_to_coord(id_x, id_y):\n",
    "        \"\"\"\n",
    "        Converts the index of the beam to the respective coordinate\n",
    "        e.g. first row, third column --> id_x = 1, id_y = 2\n",
    "        \n",
    "        Returns: coord_x, coord_y\n",
    "        \"\"\"\n",
    "        \n",
    "        \n",
    "        return coord_x, coord_y\n",
    "               \n",
    "\n",
    "class Beam:\n",
    "    def __init__(self, id_x, id_y, coord_x, coord_y):\n",
    "        self.id_x = id_x\n",
    "        self.id_y = id_y\n",
    "\n",
    "        self.coord_x = coord_x #position of the centroid of the beam in the cross_section\n",
    "        self.coord_y = coord_y\n",
    "\n",
    "        self.image_list = None \n",
    "        self.coord_list = None #of centroid [x,y,z]\n",
    "        self.diverg_full_angle = None\n",
    "        self.tilt_x = None\n",
    "        self.tilt_y = None\n",
    "    \n",
    "\n",
    "    def find_tilt(self):\n",
    "        \"\"\"\n",
    "        Find tilt of the beam with respect to z axis.\n",
    "        \"\"\"\n",
    "        self.tilt_x = None\n",
    "        self.tilt_y = None\n",
    "        \n",
    "        \n",
    "    def find_diverg(self):\n",
    "        \"\"\"\n",
    "        Find beam full-angle divergence at 1/e^2\n",
    "        \"\"\"\n",
    "        "
   ]
  },
  {
   "cell_type": "markdown",
   "metadata": {},
   "source": [
    "## Collect [z, peak_arr, image_i] for all beams"
   ]
  },
  {
   "cell_type": "code",
   "execution_count": null,
   "metadata": {},
   "outputs": [],
   "source": []
  },
  {
   "cell_type": "code",
   "execution_count": null,
   "metadata": {
    "scrolled": true
   },
   "outputs": [],
   "source": [
    "roi_x_width = 120\n",
    "roi_y_width = 120\n",
    "n_slices = len(images_list)\n",
    "\n",
    "store_arr = [] #store store_z_arr, where each store_z_arr contains the info corresponding to a single height;\n",
    "\n",
    "for z_id in range(0,n_slices,1):\n",
    "    store_z_arr = []\n",
    "    image_i = images_list[z_id]\n",
    "    coord_i = coord_list[z_id]\n",
    "    \n",
    "    #Image transform\n",
    "    image_t = t.rotate(image_i, 46.5) #rotate\n",
    "    image_t = image_t[500:1050, 250:1750] #crop\n",
    "    image_t = e.equalize_adapthist(image_t)\n",
    "    \n",
    "    #Detect peaks first iteration\n",
    "    if z_id==0: #extract peaks in first z slice;\n",
    "        peak_arr = feature.peak_local_max(image_t, num_peaks = 30, min_distance = 50)\n",
    "    \n",
    "        \n",
    "    #Plotting\n",
    "    fig, ax1 = plt.subplots(figsize = (14,4), ncols = 1)\n",
    "    plt.title(f\"coord = {coord_i:.2f}\")\n",
    "    \n",
    "    ax1.imshow(image_t, interpolation = None)\n",
    "    ax1.scatter(x = peak_arr[:,1], y = peak_arr[:,0], color = \"r\", s = 1)\n",
    "       \n",
    "    #Plotting individual beams\n",
    "    for i, peak_i in enumerate(peak_arr):\n",
    "        #calculate new position of peaks within roi\n",
    "        peak_roi_i = image_t[int(peak_i[0] - roi_x_width/2) :int(peak_i[0] + roi_x_width/2),\n",
    "                         int(peak_i[1] - roi_y_width/2) : int(peak_i[1] + roi_y_width/2)]\n",
    "        \n",
    "        centroid_x, centroid_y = find_centroid(peak_roi_i)\n",
    "        print(peak_i, centroid_x, centroid_y)\n",
    "        \n",
    "        rect = Rectangle((peak_i[1]-roi_x_width/2,\n",
    "                          peak_i[0]-roi_y_width/2),\n",
    "                         roi_x_width, roi_y_width,\n",
    "                         fill = False, color = \"red\")\n",
    "        \n",
    "        ax1.add_patch(rect)\n",
    "        \n",
    "        \n",
    "        \n",
    "        store_i = [z_id, peak_i, peak_roi_i]\n",
    "        store_z_arr.append(store_i)\n",
    "    \n",
    "    store_arr.append(store_z_arr)\n",
    "    \n",
    "    "
   ]
  },
  {
   "cell_type": "markdown",
   "metadata": {},
   "source": [
    "## Collect cross sections of the same beam for different z"
   ]
  },
  {
   "cell_type": "markdown",
   "metadata": {},
   "source": [
    "For a given beam coordinate in the first layer (z=0), collect cross sections of the same beam at other z-values."
   ]
  },
  {
   "cell_type": "code",
   "execution_count": null,
   "metadata": {},
   "outputs": [],
   "source": [
    "# choose beam coords\n",
    "# iterate over z values of storage\n",
    "# at each z-level extract beam with closest coordinates to beam coords\n",
    "# save chosen beam in beam_arr\n",
    "\n",
    "beam_arr = []\n",
    "\n",
    "#choose beam coords\n",
    "b_id = 1 #beam_id\n",
    "\n",
    "#storage scheme [z_id, beam_coords, image]\n",
    "beam_coords = store_arr[z_id][b_id][1]\n",
    "\n",
    "#pick closest coord in another layer\n",
    "for z_id in range(len(store_arr)):\n",
    "    coords_i = np.array([beam_i[1] for beam_i in store_arr[z_id]])\n",
    "    dist = np.linalg.norm((coords_i - beam_coords), axis = 1)\n",
    "    beam_idx = np.argmin(dist)\n",
    "    beam_i = store_arr[z_id][beam_idx]\n",
    "    beam_arr.append(beam_i)\n"
   ]
  },
  {
   "cell_type": "markdown",
   "metadata": {},
   "source": [
    "###  Beam coordinates at different z values"
   ]
  },
  {
   "cell_type": "code",
   "execution_count": null,
   "metadata": {},
   "outputs": [],
   "source": [
    "beam_coords_arr = [beam_i[1] for beam_i in beam_arr]\n",
    "beam_coords_arr"
   ]
  },
  {
   "cell_type": "code",
   "execution_count": null,
   "metadata": {},
   "outputs": [],
   "source": []
  },
  {
   "cell_type": "code",
   "execution_count": null,
   "metadata": {},
   "outputs": [],
   "source": [
    "for z_slice in store_arr:\n",
    "    for beam_i in z_slice:\n",
    "        coords = beam_i[1]"
   ]
  },
  {
   "cell_type": "code",
   "execution_count": null,
   "metadata": {},
   "outputs": [],
   "source": [
    "\n",
    "store_arr[z_id][b_id][1]"
   ]
  },
  {
   "cell_type": "code",
   "execution_count": null,
   "metadata": {
    "scrolled": true
   },
   "outputs": [],
   "source": [
    "plt.figure()\n",
    "for i in store_arr:\n",
    "    z_id, peak_i, image_i = i\n",
    "    plt.figure()\n",
    "    plt.title(peak_i)\n",
    "    plt.imshow(image_i)\n"
   ]
  },
  {
   "cell_type": "code",
   "execution_count": null,
   "metadata": {},
   "outputs": [],
   "source": [
    "col_id_arr = kmeans_col.labels_\n",
    "for i, peak_i in enumerate(peak_arr):\n",
    "    print(peak_i[0], col_id_arr[i] )"
   ]
  },
  {
   "cell_type": "code",
   "execution_count": null,
   "metadata": {},
   "outputs": [],
   "source": []
  },
  {
   "cell_type": "code",
   "execution_count": null,
   "metadata": {},
   "outputs": [],
   "source": []
  },
  {
   "cell_type": "code",
   "execution_count": null,
   "metadata": {},
   "outputs": [],
   "source": [
    "#label beams - line_id, col_id\n",
    "kmeans_line = KMeans(n_clusters = 3)\n",
    "kmeans_line.fit(peak_sorted_arr[:,0].reshape(-1,1))\n",
    "line_id = kmeans_line.labels_"
   ]
  },
  {
   "cell_type": "code",
   "execution_count": null,
   "metadata": {},
   "outputs": [],
   "source": [
    "\n"
   ]
  },
  {
   "cell_type": "code",
   "execution_count": null,
   "metadata": {},
   "outputs": [],
   "source": [
    "col_id"
   ]
  },
  {
   "cell_type": "code",
   "execution_count": null,
   "metadata": {},
   "outputs": [],
   "source": [
    "kmeans_line.cluster_centers_\n"
   ]
  },
  {
   "cell_type": "code",
   "execution_count": null,
   "metadata": {},
   "outputs": [],
   "source": [
    "line_id = kmeans_line.labels_"
   ]
  },
  {
   "cell_type": "code",
   "execution_count": null,
   "metadata": {},
   "outputs": [],
   "source": [
    "np.sort(peak_arr)"
   ]
  },
  {
   "cell_type": "code",
   "execution_count": null,
   "metadata": {},
   "outputs": [],
   "source": [
    "plt.figure()\n"
   ]
  },
  {
   "cell_type": "code",
   "execution_count": null,
   "metadata": {},
   "outputs": [],
   "source": [
    "f, ax = plt.subplots()\n",
    "plt.hist(data_dict[\"img_store\"][-1].ravel(), bins = 25)\n",
    "ax.set_yscale(\"log\")"
   ]
  },
  {
   "cell_type": "code",
   "execution_count": null,
   "metadata": {},
   "outputs": [],
   "source": [
    "list(range(0,5,2#label beams - line_id, col_id\n",
    "kmeans_line = KMeans(n_clusters = 3)\n",
    "kmeans_line.fit(peak_sorted_arr[:,0].reshape(-1,1))\n",
    "line_id = kmeans_line.labels_a))"
   ]
  }
 ],
 "metadata": {
  "kernelspec": {
   "display_name": "Python 3 (ipykernel)",
   "language": "python",
   "name": "python3"
  },
  "language_info": {
   "codemirror_mode": {
    "name": "ipython",
    "version": 3
   },
   "file_extension": ".py",
   "mimetype": "text/x-python",
   "name": "python",
   "nbconvert_exporter": "python",
   "pygments_lexer": "ipython3",
   "version": "3.9.12"
  },
  "toc": {
   "base_numbering": 1,
   "nav_menu": {},
   "number_sections": true,
   "sideBar": true,
   "skip_h1_title": false,
   "title_cell": "Table of Contents",
   "title_sidebar": "Contents",
   "toc_cell": false,
   "toc_position": {
    "height": "calc(100% - 180px)",
    "left": "10px",
    "top": "150px",
    "width": "239.667px"
   },
   "toc_section_display": true,
   "toc_window_display": true
  }
 },
 "nbformat": 4,
 "nbformat_minor": 4
}
